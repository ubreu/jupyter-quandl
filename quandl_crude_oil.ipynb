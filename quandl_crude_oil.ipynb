{
 "cells": [
  {
   "cell_type": "markdown",
   "metadata": {},
   "source": [
    "# Oil-Equity Correlation"
   ]
  },
  {
   "cell_type": "code",
   "execution_count": 5,
   "metadata": {},
   "outputs": [],
   "source": [
    "import pandas as pd\n",
    "import datetime\n",
    "%matplotlib inline\n",
    "import matplotlib\n",
    "import matplotlib.pyplot as plt\n",
    "import numpy as np\n",
    "import os\n",
    "API_TOKEN = os.environ.get(\"API_TOKEN\")\n",
    "import quandl\n",
    "quandl.ApiConfig.api_key = API_TOKEN"
   ]
  },
  {
   "cell_type": "code",
   "execution_count": 6,
   "metadata": {},
   "outputs": [],
   "source": [
    "cl = quandl.get(\"CHRIS/CME_QM1\")\n",
    "es = quandl.get(\"CHRIS/CME_ES1\")"
   ]
  },
  {
   "cell_type": "code",
   "execution_count": 7,
   "metadata": {},
   "outputs": [
    {
     "data": {
      "text/html": [
       "<div>\n",
       "<style scoped>\n",
       "    .dataframe tbody tr th:only-of-type {\n",
       "        vertical-align: middle;\n",
       "    }\n",
       "\n",
       "    .dataframe tbody tr th {\n",
       "        vertical-align: top;\n",
       "    }\n",
       "\n",
       "    .dataframe thead th {\n",
       "        text-align: right;\n",
       "    }\n",
       "</style>\n",
       "<table border=\"1\" class=\"dataframe\">\n",
       "  <thead>\n",
       "    <tr style=\"text-align: right;\">\n",
       "      <th></th>\n",
       "      <th>Open</th>\n",
       "      <th>High</th>\n",
       "      <th>Low</th>\n",
       "      <th>Last</th>\n",
       "      <th>Change</th>\n",
       "      <th>Settle</th>\n",
       "      <th>Volume</th>\n",
       "      <th>Previous Day Open Interest</th>\n",
       "    </tr>\n",
       "    <tr>\n",
       "      <th>Date</th>\n",
       "      <th></th>\n",
       "      <th></th>\n",
       "      <th></th>\n",
       "      <th></th>\n",
       "      <th></th>\n",
       "      <th></th>\n",
       "      <th></th>\n",
       "      <th></th>\n",
       "    </tr>\n",
       "  </thead>\n",
       "  <tbody>\n",
       "    <tr>\n",
       "      <th>2018-09-14</th>\n",
       "      <td>68.775</td>\n",
       "      <td>69.900</td>\n",
       "      <td>67.950</td>\n",
       "      <td>69.000</td>\n",
       "      <td>0.40</td>\n",
       "      <td>68.99</td>\n",
       "      <td>18017.0</td>\n",
       "      <td>1569.0</td>\n",
       "    </tr>\n",
       "    <tr>\n",
       "      <th>2018-09-17</th>\n",
       "      <td>69.000</td>\n",
       "      <td>69.725</td>\n",
       "      <td>68.525</td>\n",
       "      <td>68.775</td>\n",
       "      <td>0.08</td>\n",
       "      <td>68.91</td>\n",
       "      <td>12376.0</td>\n",
       "      <td>1468.0</td>\n",
       "    </tr>\n",
       "    <tr>\n",
       "      <th>2018-09-18</th>\n",
       "      <td>68.800</td>\n",
       "      <td>70.425</td>\n",
       "      <td>68.525</td>\n",
       "      <td>69.750</td>\n",
       "      <td>0.94</td>\n",
       "      <td>69.85</td>\n",
       "      <td>10614.0</td>\n",
       "      <td>1216.0</td>\n",
       "    </tr>\n",
       "    <tr>\n",
       "      <th>2018-09-19</th>\n",
       "      <td>69.675</td>\n",
       "      <td>71.150</td>\n",
       "      <td>69.650</td>\n",
       "      <td>71.125</td>\n",
       "      <td>1.27</td>\n",
       "      <td>71.12</td>\n",
       "      <td>1220.0</td>\n",
       "      <td>1052.0</td>\n",
       "    </tr>\n",
       "    <tr>\n",
       "      <th>2018-09-20</th>\n",
       "      <td>70.975</td>\n",
       "      <td>71.350</td>\n",
       "      <td>70.050</td>\n",
       "      <td>70.175</td>\n",
       "      <td>0.45</td>\n",
       "      <td>70.32</td>\n",
       "      <td>13989.0</td>\n",
       "      <td>1775.0</td>\n",
       "    </tr>\n",
       "  </tbody>\n",
       "</table>\n",
       "</div>"
      ],
      "text/plain": [
       "              Open    High     Low    Last  Change  Settle   Volume  \\\n",
       "Date                                                                  \n",
       "2018-09-14  68.775  69.900  67.950  69.000    0.40   68.99  18017.0   \n",
       "2018-09-17  69.000  69.725  68.525  68.775    0.08   68.91  12376.0   \n",
       "2018-09-18  68.800  70.425  68.525  69.750    0.94   69.85  10614.0   \n",
       "2018-09-19  69.675  71.150  69.650  71.125    1.27   71.12   1220.0   \n",
       "2018-09-20  70.975  71.350  70.050  70.175    0.45   70.32  13989.0   \n",
       "\n",
       "            Previous Day Open Interest  \n",
       "Date                                    \n",
       "2018-09-14                      1569.0  \n",
       "2018-09-17                      1468.0  \n",
       "2018-09-18                      1216.0  \n",
       "2018-09-19                      1052.0  \n",
       "2018-09-20                      1775.0  "
      ]
     },
     "execution_count": 7,
     "metadata": {},
     "output_type": "execute_result"
    }
   ],
   "source": [
    "cl.tail()"
   ]
  },
  {
   "cell_type": "code",
   "execution_count": 8,
   "metadata": {},
   "outputs": [
    {
     "data": {
      "text/html": [
       "<div>\n",
       "<style scoped>\n",
       "    .dataframe tbody tr th:only-of-type {\n",
       "        vertical-align: middle;\n",
       "    }\n",
       "\n",
       "    .dataframe tbody tr th {\n",
       "        vertical-align: top;\n",
       "    }\n",
       "\n",
       "    .dataframe thead th {\n",
       "        text-align: right;\n",
       "    }\n",
       "</style>\n",
       "<table border=\"1\" class=\"dataframe\">\n",
       "  <thead>\n",
       "    <tr style=\"text-align: right;\">\n",
       "      <th></th>\n",
       "      <th>Open</th>\n",
       "      <th>High</th>\n",
       "      <th>Low</th>\n",
       "      <th>Last</th>\n",
       "      <th>Change</th>\n",
       "      <th>Settle</th>\n",
       "      <th>Volume</th>\n",
       "      <th>Previous Day Open Interest</th>\n",
       "    </tr>\n",
       "  </thead>\n",
       "  <tbody>\n",
       "    <tr>\n",
       "      <th>count</th>\n",
       "      <td>5378.000000</td>\n",
       "      <td>5378.000000</td>\n",
       "      <td>5378.000000</td>\n",
       "      <td>5378.000000</td>\n",
       "      <td>1133.000000</td>\n",
       "      <td>5378.000000</td>\n",
       "      <td>5.378000e+03</td>\n",
       "      <td>5.378000e+03</td>\n",
       "    </tr>\n",
       "    <tr>\n",
       "      <th>mean</th>\n",
       "      <td>1448.612402</td>\n",
       "      <td>1458.846411</td>\n",
       "      <td>1437.936036</td>\n",
       "      <td>1449.159174</td>\n",
       "      <td>12.077229</td>\n",
       "      <td>1449.142055</td>\n",
       "      <td>1.113573e+06</td>\n",
       "      <td>1.610987e+06</td>\n",
       "    </tr>\n",
       "    <tr>\n",
       "      <th>std</th>\n",
       "      <td>473.406215</td>\n",
       "      <td>473.986024</td>\n",
       "      <td>473.034465</td>\n",
       "      <td>473.867676</td>\n",
       "      <td>12.757965</td>\n",
       "      <td>473.847481</td>\n",
       "      <td>9.239922e+05</td>\n",
       "      <td>1.184029e+06</td>\n",
       "    </tr>\n",
       "    <tr>\n",
       "      <th>min</th>\n",
       "      <td>674.750000</td>\n",
       "      <td>694.750000</td>\n",
       "      <td>665.750000</td>\n",
       "      <td>676.000000</td>\n",
       "      <td>0.250000</td>\n",
       "      <td>676.000000</td>\n",
       "      <td>0.000000e+00</td>\n",
       "      <td>0.000000e+00</td>\n",
       "    </tr>\n",
       "    <tr>\n",
       "      <th>25%</th>\n",
       "      <td>1125.500000</td>\n",
       "      <td>1133.500000</td>\n",
       "      <td>1117.500000</td>\n",
       "      <td>1125.750000</td>\n",
       "      <td>3.500000</td>\n",
       "      <td>1125.750000</td>\n",
       "      <td>2.784540e+05</td>\n",
       "      <td>3.442220e+05</td>\n",
       "    </tr>\n",
       "    <tr>\n",
       "      <th>50%</th>\n",
       "      <td>1309.250000</td>\n",
       "      <td>1319.000000</td>\n",
       "      <td>1300.250000</td>\n",
       "      <td>1309.125000</td>\n",
       "      <td>8.500000</td>\n",
       "      <td>1309.125000</td>\n",
       "      <td>9.857395e+05</td>\n",
       "      <td>1.825976e+06</td>\n",
       "    </tr>\n",
       "    <tr>\n",
       "      <th>75%</th>\n",
       "      <td>1608.875000</td>\n",
       "      <td>1623.625000</td>\n",
       "      <td>1599.562500</td>\n",
       "      <td>1609.750000</td>\n",
       "      <td>17.000000</td>\n",
       "      <td>1609.750000</td>\n",
       "      <td>1.707827e+06</td>\n",
       "      <td>2.776024e+06</td>\n",
       "    </tr>\n",
       "    <tr>\n",
       "      <th>max</th>\n",
       "      <td>2915.750000</td>\n",
       "      <td>2935.750000</td>\n",
       "      <td>2908.250000</td>\n",
       "      <td>2935.250000</td>\n",
       "      <td>149.000000</td>\n",
       "      <td>2934.000000</td>\n",
       "      <td>6.285917e+06</td>\n",
       "      <td>3.594453e+06</td>\n",
       "    </tr>\n",
       "  </tbody>\n",
       "</table>\n",
       "</div>"
      ],
      "text/plain": [
       "              Open         High          Low         Last       Change  \\\n",
       "count  5378.000000  5378.000000  5378.000000  5378.000000  1133.000000   \n",
       "mean   1448.612402  1458.846411  1437.936036  1449.159174    12.077229   \n",
       "std     473.406215   473.986024   473.034465   473.867676    12.757965   \n",
       "min     674.750000   694.750000   665.750000   676.000000     0.250000   \n",
       "25%    1125.500000  1133.500000  1117.500000  1125.750000     3.500000   \n",
       "50%    1309.250000  1319.000000  1300.250000  1309.125000     8.500000   \n",
       "75%    1608.875000  1623.625000  1599.562500  1609.750000    17.000000   \n",
       "max    2915.750000  2935.750000  2908.250000  2935.250000   149.000000   \n",
       "\n",
       "            Settle        Volume  Previous Day Open Interest  \n",
       "count  5378.000000  5.378000e+03                5.378000e+03  \n",
       "mean   1449.142055  1.113573e+06                1.610987e+06  \n",
       "std     473.847481  9.239922e+05                1.184029e+06  \n",
       "min     676.000000  0.000000e+00                0.000000e+00  \n",
       "25%    1125.750000  2.784540e+05                3.442220e+05  \n",
       "50%    1309.125000  9.857395e+05                1.825976e+06  \n",
       "75%    1609.750000  1.707827e+06                2.776024e+06  \n",
       "max    2934.000000  6.285917e+06                3.594453e+06  "
      ]
     },
     "execution_count": 8,
     "metadata": {},
     "output_type": "execute_result"
    }
   ],
   "source": [
    "es.describe()"
   ]
  },
  {
   "cell_type": "code",
   "execution_count": 9,
   "metadata": {},
   "outputs": [
    {
     "data": {
      "text/plain": [
       "Date\n",
       "2014-03-05    101.45\n",
       "2014-03-06    101.56\n",
       "2014-03-07    102.58\n",
       "2014-03-11    100.03\n",
       "2014-03-12     97.99\n",
       "Name: Settle, dtype: float64"
      ]
     },
     "execution_count": 9,
     "metadata": {},
     "output_type": "execute_result"
    }
   ],
   "source": [
    "es_settle = es.Settle\n",
    "cl_settle = cl.Settle\n",
    "cl_settle.head()"
   ]
  },
  {
   "cell_type": "code",
   "execution_count": 10,
   "metadata": {},
   "outputs": [
    {
     "name": "stdout",
     "output_type": "stream",
     "text": [
      "Populating the interactive namespace from numpy and matplotlib\n"
     ]
    },
    {
     "data": {
      "text/plain": [
       "<matplotlib.axes._subplots.AxesSubplot at 0x110a281d0>"
      ]
     },
     "execution_count": 10,
     "metadata": {},
     "output_type": "execute_result"
    },
    {
     "data": {
      "image/png": "[encoded data removed]",
      "text/plain": [
       "<Figure size 432x288 with 1 Axes>"
      ]
     },
     "metadata": {},
     "output_type": "display_data"
    }
   ],
   "source": [
    "# use new pretty plots\n",
    "matplotlib.style.use('ggplot')\n",
    "# get ipython notebook to show graphs\n",
    "%pylab inline\n",
    "\n",
    "es_settle.plot()"
   ]
  },
  {
   "cell_type": "code",
   "execution_count": 11,
   "metadata": {},
   "outputs": [
    {
     "data": {
      "image/png": "[encoded data removed]",
      "text/plain": [
       "<Figure size 432x288 with 1 Axes>"
      ]
     },
     "metadata": {},
     "output_type": "display_data"
    }
   ],
   "source": [
    "plt.figure()\n",
    "es_settle.plot()\n",
    "cl_settle.plot()\n",
    "plt.yscale('log')"
   ]
  },
  {
   "cell_type": "code",
   "execution_count": 12,
   "metadata": {},
   "outputs": [
    {
     "data": {
      "text/plain": [
       "-0.08497378802718977"
      ]
     },
     "execution_count": 12,
     "metadata": {},
     "output_type": "execute_result"
    }
   ],
   "source": [
    "es_settle.corr(cl_settle)"
   ]
  },
  {
   "cell_type": "markdown",
   "metadata": {},
   "source": [
    "252 = number of trading days?"
   ]
  },
  {
   "cell_type": "code",
   "execution_count": 13,
   "metadata": {},
   "outputs": [
    {
     "data": {
      "text/plain": [
       "Date\n",
       "1997-09-09         NaN\n",
       "1997-09-10         NaN\n",
       "1997-09-11         NaN\n",
       "1997-09-12         NaN\n",
       "1997-09-15         NaN\n",
       "1997-09-16         NaN\n",
       "1997-09-17         NaN\n",
       "1997-09-18         NaN\n",
       "1997-09-19         NaN\n",
       "1997-09-22         NaN\n",
       "1997-09-23         NaN\n",
       "1997-09-24         NaN\n",
       "1997-09-25         NaN\n",
       "1997-09-26         NaN\n",
       "1997-09-29         NaN\n",
       "1997-09-30         NaN\n",
       "1997-10-01         NaN\n",
       "1997-10-02         NaN\n",
       "1997-10-03         NaN\n",
       "1997-10-06         NaN\n",
       "1997-10-07         NaN\n",
       "1997-10-08         NaN\n",
       "1997-10-09         NaN\n",
       "1997-10-10         NaN\n",
       "1997-10-13         NaN\n",
       "1997-10-14         NaN\n",
       "1997-10-15         NaN\n",
       "1997-10-16         NaN\n",
       "1997-10-17         NaN\n",
       "1997-10-20         NaN\n",
       "                ...   \n",
       "2018-08-09    0.832077\n",
       "2018-08-10    0.830226\n",
       "2018-08-13    0.828367\n",
       "2018-08-14    0.825929\n",
       "2018-08-15    0.822805\n",
       "2018-08-16    0.819228\n",
       "2018-08-17    0.815255\n",
       "2018-08-20    0.811858\n",
       "2018-08-21    0.807436\n",
       "2018-08-22    0.804467\n",
       "2018-08-23    0.801548\n",
       "2018-08-24    0.798339\n",
       "2018-08-27    0.794854\n",
       "2018-08-28    0.790611\n",
       "2018-08-29    0.786616\n",
       "2018-08-30    0.783314\n",
       "2018-08-31    0.780182\n",
       "2018-09-04    0.777159\n",
       "2018-09-05    0.773537\n",
       "2018-09-06    0.769591\n",
       "2018-09-07    0.765567\n",
       "2018-09-10    0.760548\n",
       "2018-09-11    0.757091\n",
       "2018-09-12    0.754450\n",
       "2018-09-13    0.750512\n",
       "2018-09-14    0.746897\n",
       "2018-09-17    0.743369\n",
       "2018-09-18    0.740293\n",
       "2018-09-19    0.737860\n",
       "2018-09-20    0.734801\n",
       "Name: Settle, Length: 5378, dtype: float64"
      ]
     },
     "execution_count": 13,
     "metadata": {},
     "output_type": "execute_result"
    }
   ],
   "source": [
    "es_settle.rolling(window=252).corr(other=cl_settle)"
   ]
  },
  {
   "cell_type": "code",
   "execution_count": 14,
   "metadata": {},
   "outputs": [
    {
     "data": {
      "text/html": [
       "<div>\n",
       "<style scoped>\n",
       "    .dataframe tbody tr th:only-of-type {\n",
       "        vertical-align: middle;\n",
       "    }\n",
       "\n",
       "    .dataframe tbody tr th {\n",
       "        vertical-align: top;\n",
       "    }\n",
       "\n",
       "    .dataframe thead th {\n",
       "        text-align: right;\n",
       "    }\n",
       "</style>\n",
       "<table border=\"1\" class=\"dataframe\">\n",
       "  <thead>\n",
       "    <tr style=\"text-align: right;\">\n",
       "      <th></th>\n",
       "      <th>cl</th>\n",
       "      <th>es</th>\n",
       "    </tr>\n",
       "    <tr>\n",
       "      <th>Date</th>\n",
       "      <th></th>\n",
       "      <th></th>\n",
       "    </tr>\n",
       "  </thead>\n",
       "  <tbody>\n",
       "    <tr>\n",
       "      <th>1997-09-09</th>\n",
       "      <td>NaN</td>\n",
       "      <td>934.0</td>\n",
       "    </tr>\n",
       "    <tr>\n",
       "      <th>1997-09-10</th>\n",
       "      <td>NaN</td>\n",
       "      <td>915.0</td>\n",
       "    </tr>\n",
       "    <tr>\n",
       "      <th>1997-09-11</th>\n",
       "      <td>NaN</td>\n",
       "      <td>908.0</td>\n",
       "    </tr>\n",
       "    <tr>\n",
       "      <th>1997-09-12</th>\n",
       "      <td>NaN</td>\n",
       "      <td>924.0</td>\n",
       "    </tr>\n",
       "    <tr>\n",
       "      <th>1997-09-15</th>\n",
       "      <td>NaN</td>\n",
       "      <td>922.0</td>\n",
       "    </tr>\n",
       "  </tbody>\n",
       "</table>\n",
       "</div>"
      ],
      "text/plain": [
       "            cl     es\n",
       "Date                 \n",
       "1997-09-09 NaN  934.0\n",
       "1997-09-10 NaN  915.0\n",
       "1997-09-11 NaN  908.0\n",
       "1997-09-12 NaN  924.0\n",
       "1997-09-15 NaN  922.0"
      ]
     },
     "execution_count": 14,
     "metadata": {},
     "output_type": "execute_result"
    }
   ],
   "source": [
    "merged = pd.concat({'es': es_settle, 'cl': cl_settle}, axis=1)\n",
    "merged[merged['cl'].isnull()].head()"
   ]
  },
  {
   "cell_type": "code",
   "execution_count": 15,
   "metadata": {},
   "outputs": [
    {
     "data": {
      "text/html": [
       "<div>\n",
       "<style scoped>\n",
       "    .dataframe tbody tr th:only-of-type {\n",
       "        vertical-align: middle;\n",
       "    }\n",
       "\n",
       "    .dataframe tbody tr th {\n",
       "        vertical-align: top;\n",
       "    }\n",
       "\n",
       "    .dataframe thead th {\n",
       "        text-align: right;\n",
       "    }\n",
       "</style>\n",
       "<table border=\"1\" class=\"dataframe\">\n",
       "  <thead>\n",
       "    <tr style=\"text-align: right;\">\n",
       "      <th></th>\n",
       "      <th>cl</th>\n",
       "      <th>es</th>\n",
       "    </tr>\n",
       "    <tr>\n",
       "      <th>Date</th>\n",
       "      <th></th>\n",
       "      <th></th>\n",
       "    </tr>\n",
       "  </thead>\n",
       "  <tbody>\n",
       "  </tbody>\n",
       "</table>\n",
       "</div>"
      ],
      "text/plain": [
       "Empty DataFrame\n",
       "Columns: [cl, es]\n",
       "Index: []"
      ]
     },
     "execution_count": 15,
     "metadata": {},
     "output_type": "execute_result"
    }
   ],
   "source": [
    "merged.dropna(how='any', inplace=True)\n",
    "merged[merged['cl'].isnull()]"
   ]
  },
  {
   "cell_type": "code",
   "execution_count": 16,
   "metadata": {},
   "outputs": [
    {
     "data": {
      "text/plain": [
       "Date\n",
       "2015-03-12   -0.763437\n",
       "2015-03-13   -0.763697\n",
       "2015-03-16   -0.765176\n",
       "2015-03-17   -0.766395\n",
       "2015-03-18   -0.768877\n",
       "2015-03-19   -0.771226\n",
       "2015-03-20   -0.774162\n",
       "2015-03-23   -0.776963\n",
       "2015-03-24   -0.779132\n",
       "2015-03-25   -0.779743\n",
       "2015-03-26   -0.780496\n",
       "2015-03-27   -0.781077\n",
       "2015-03-30   -0.782627\n",
       "2015-03-31   -0.783866\n",
       "2015-04-01   -0.784697\n",
       "2015-04-02   -0.785989\n",
       "2015-04-06   -0.787435\n",
       "2015-04-07   -0.788353\n",
       "2015-04-08   -0.789240\n",
       "2015-04-09   -0.790284\n",
       "2015-04-10   -0.791259\n",
       "2015-04-13   -0.792031\n",
       "2015-04-14   -0.792951\n",
       "2015-04-15   -0.794299\n",
       "2015-04-16   -0.794905\n",
       "2015-04-17   -0.795034\n",
       "2015-04-20   -0.795999\n",
       "2015-04-21   -0.797717\n",
       "2015-04-22   -0.798801\n",
       "2015-04-23   -0.799088\n",
       "                ...   \n",
       "2018-08-09    0.832077\n",
       "2018-08-10    0.830226\n",
       "2018-08-13    0.828367\n",
       "2018-08-14    0.825929\n",
       "2018-08-15    0.822805\n",
       "2018-08-16    0.819228\n",
       "2018-08-17    0.815255\n",
       "2018-08-20    0.811858\n",
       "2018-08-21    0.807436\n",
       "2018-08-22    0.804467\n",
       "2018-08-23    0.801548\n",
       "2018-08-24    0.798339\n",
       "2018-08-27    0.794854\n",
       "2018-08-28    0.790611\n",
       "2018-08-29    0.786616\n",
       "2018-08-30    0.783314\n",
       "2018-08-31    0.780182\n",
       "2018-09-04    0.777159\n",
       "2018-09-05    0.773537\n",
       "2018-09-06    0.769591\n",
       "2018-09-07    0.765567\n",
       "2018-09-10    0.760548\n",
       "2018-09-11    0.757091\n",
       "2018-09-12    0.754450\n",
       "2018-09-13    0.750512\n",
       "2018-09-14    0.746897\n",
       "2018-09-17    0.743369\n",
       "2018-09-18    0.740293\n",
       "2018-09-19    0.737860\n",
       "2018-09-20    0.734801\n",
       "Length: 889, dtype: float64"
      ]
     },
     "execution_count": 16,
     "metadata": {},
     "output_type": "execute_result"
    }
   ],
   "source": [
    "merged.es.rolling(window=252).corr(other=merged.cl).dropna()"
   ]
  },
  {
   "cell_type": "code",
   "execution_count": 17,
   "metadata": {},
   "outputs": [
    {
     "data": {
      "text/plain": [
       "<matplotlib.lines.Line2D at 0x110dc71d0>"
      ]
     },
     "execution_count": 17,
     "metadata": {},
     "output_type": "execute_result"
    },
    {
     "data": {
      "image/png": "[encoded data removed]",
      "text/plain": [
       "<Figure size 432x288 with 1 Axes>"
      ]
     },
     "metadata": {},
     "output_type": "display_data"
    }
   ],
   "source": [
    "merged.es.rolling(window=252).corr(other=merged.cl).dropna().plot()\n",
    "plt.axhline(0, color='k')"
   ]
  },
  {
   "cell_type": "code",
   "execution_count": 18,
   "metadata": {},
   "outputs": [
    {
     "data": {
      "text/plain": [
       "0.9994660844982872"
      ]
     },
     "execution_count": 18,
     "metadata": {},
     "output_type": "execute_result"
    }
   ],
   "source": [
    "es_settle.autocorr()"
   ]
  },
  {
   "cell_type": "code",
   "execution_count": 19,
   "metadata": {},
   "outputs": [
    {
     "data": {
      "text/plain": [
       "Text(0.5,1,'Rolling 1 yr correlation between Oil and S&P')"
      ]
     },
     "execution_count": 19,
     "metadata": {},
     "output_type": "execute_result"
    },
    {
     "data": {
      "image/png": "[encoded data removed]",
      "text/plain": [
       "<Figure size 432x288 with 1 Axes>"
      ]
     },
     "metadata": {},
     "output_type": "display_data"
    }
   ],
   "source": [
    "daily_returns = merged.pct_change()\n",
    "daily_returns.es.rolling(window=252).corr(other=daily_returns.cl).dropna().plot()\n",
    "plt.axhline(0, color='k')\n",
    "title('Rolling 1 yr correlation between Oil and S&P')"
   ]
  }
 ],
 "metadata": {
  "kernelspec": {
   "display_name": "Python 3",
   "language": "python",
   "name": "python3"
  },
  "language_info": {
   "codemirror_mode": {
    "name": "ipython",
    "version": 3
   },
   "file_extension": ".py",
   "mimetype": "text/x-python",
   "name": "python",
   "nbconvert_exporter": "python",
   "pygments_lexer": "ipython3",
   "version": "3.6.5"
  }
 },
 "nbformat": 4,
 "nbformat_minor": 2
}
